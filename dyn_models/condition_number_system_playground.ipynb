{
 "cells": [
  {
   "cell_type": "code",
   "execution_count": 4,
   "metadata": {},
   "outputs": [
    {
     "name": "stdout",
     "output_type": "stream",
     "text": [
      "[1.0, 1.9141171163111337, 1.9793049617686775, 4.652799893391382, 7.017789984740024, 7.06574117722624, 7.11846235339099, 7.534867540020616, 8.33607041931129, 10.0]\n"
     ]
    }
   ],
   "source": [
    "import random\n",
    "import numpy as np\n",
    "\n",
    "def generate_random_list(lowest, highest):\n",
    "    # Generate 8 random numbers between lowest and highest\n",
    "    random_numbers = [random.uniform(lowest, highest) for _ in range(8)]\n",
    "    \n",
    "    # Add the specified lowest and highest numbers\n",
    "    random_numbers.append(lowest)\n",
    "    random_numbers.append(highest)\n",
    "    \n",
    "    #sort the list from lowest to highest\n",
    "    random_numbers.sort(reverse=False)\n",
    "    \n",
    "    return random_numbers\n",
    "\n",
    "# Example usage\n",
    "lowest = 1.0\n",
    "highest = 10.0\n",
    "random_list = generate_random_list(lowest, highest)\n",
    "print(random_list)"
   ]
  },
  {
   "cell_type": "code",
   "execution_count": 8,
   "metadata": {},
   "outputs": [],
   "source": [
    "def generate_random_rotation_matrix(n):\n",
    "    # Generate a random 10x10 matrix\n",
    "    random_matrix = np.random.randn(n, n)\n",
    "\n",
    "    # Use QR decomposition to get a random rotation matrix\n",
    "    Q, R = np.linalg.qr(random_matrix)\n",
    "    print(\"det(Q) = \", np.linalg.det(Q))\n",
    "    return Q\n",
    "\n",
    "def generate_random_mat_cond_number(n, cond_number):\n",
    "    top = 0.95\n",
    "    low = top / cond_number\n",
    "    s = generate_random_list(low, top)\n",
    "    S = np.diag(s)\n",
    "    U = generate_random_rotation_matrix(n)\n",
    "    VT = generate_random_rotation_matrix(n)\n",
    "    random_matrix = U @ S @ VT\n",
    "\n",
    "    print(\"cond number = \", np.linalg.cond(random_matrix))\n",
    "    return random_matrix"
   ]
  },
  {
   "cell_type": "code",
   "execution_count": 10,
   "metadata": {},
   "outputs": [
    {
     "name": "stdout",
     "output_type": "stream",
     "text": [
      "det(Q) =  -1.0000000000000002\n",
      "det(Q) =  -0.9999999999999992\n",
      "cond number =  10.000000000000002\n"
     ]
    },
    {
     "data": {
      "text/plain": [
       "array([[ 0.05218149, -0.19555871,  0.1273511 , -0.26548826,  0.2566314 ,\n",
       "         0.07432289, -0.26515875, -0.06837005,  0.5435423 , -0.04274018],\n",
       "       [-0.43520396,  0.27036318,  0.10492347,  0.01814716, -0.02300592,\n",
       "         0.19253713, -0.23942536, -0.09497465,  0.14657663,  0.37798491],\n",
       "       [-0.0141933 ,  0.10073586, -0.05980825, -0.24618245,  0.00561938,\n",
       "        -0.05498304, -0.00837243,  0.53993422,  0.19300691,  0.03090044],\n",
       "       [-0.0888309 ,  0.3760685 , -0.25562153,  0.11681655,  0.10016268,\n",
       "        -0.23335816, -0.09327247, -0.18978718,  0.159858  ,  0.0118854 ],\n",
       "       [-0.13703626,  0.15956652, -0.21971578,  0.05230508, -0.25706278,\n",
       "         0.2087913 ,  0.24683472,  0.20805366,  0.26140713, -0.02091591],\n",
       "       [ 0.34789042,  0.13069281, -0.07603918,  0.47519498, -0.05578017,\n",
       "         0.22559159,  0.14183874,  0.18580111,  0.1260569 , -0.19394507],\n",
       "       [ 0.05124488,  0.12504761,  0.33422802,  0.01587926,  0.06958782,\n",
       "        -0.09985488,  0.20288512, -0.17259621, -0.10589598, -0.10084204],\n",
       "       [-0.03200412,  0.09812257,  0.01369754, -0.07063359, -0.24470135,\n",
       "         0.12539412, -0.12290556,  0.06426504, -0.06289954,  0.32261052],\n",
       "       [-0.00418916,  0.16914998, -0.21876919,  0.07077889, -0.1358596 ,\n",
       "        -0.02036503, -0.36727971, -0.19162499,  0.20221303, -0.15672905],\n",
       "       [-0.09069197, -0.1367337 , -0.21042737, -0.00604883, -0.10657269,\n",
       "        -0.1328267 ,  0.09007315, -0.15510257,  0.17252062, -0.12310199]])"
      ]
     },
     "execution_count": 10,
     "metadata": {},
     "output_type": "execute_result"
    }
   ],
   "source": [
    "generate_random_mat_cond_number(10, 10)"
   ]
  },
  {
   "cell_type": "code",
   "execution_count": 24,
   "metadata": {},
   "outputs": [
    {
     "name": "stdout",
     "output_type": "stream",
     "text": [
      "[ 0.  5. 10. 15. 20. 25. 30. 35. 40. 45. 50.]\n"
     ]
    }
   ],
   "source": [
    "cond_num = np.linspace(0, 50, 11)\n",
    "print(cond_num)\n"
   ]
  },
  {
   "cell_type": "code",
   "execution_count": null,
   "metadata": {},
   "outputs": [],
   "source": []
  }
 ],
 "metadata": {
  "kernelspec": {
   "display_name": "Python 3",
   "language": "python",
   "name": "python3"
  },
  "language_info": {
   "codemirror_mode": {
    "name": "ipython",
    "version": 3
   },
   "file_extension": ".py",
   "mimetype": "text/x-python",
   "name": "python",
   "nbconvert_exporter": "python",
   "pygments_lexer": "ipython3",
   "version": "3.8.12"
  }
 },
 "nbformat": 4,
 "nbformat_minor": 2
}
